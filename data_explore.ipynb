{
 "cells": [
  {
   "cell_type": "code",
   "execution_count": 1,
   "metadata": {},
   "outputs": [],
   "source": [
    "# cols: \n",
    "# id,latitude,longitude,thumb_original_url,country,sequence,captured_at,lon_bin,lat_bin,cell,land_cover,road_index,drive_side,climate,soil,dist_sea,region,sub-region,city,unique_city,unique_sub-region,unique_region,unique_country,quadtree_10_1000,creator_username,creator_id"
   ]
  },
  {
   "cell_type": "code",
   "execution_count": 2,
   "metadata": {},
   "outputs": [],
   "source": [
    "import pandas as pd"
   ]
  },
  {
   "cell_type": "code",
   "execution_count": 3,
   "metadata": {},
   "outputs": [],
   "source": [
    "train_df = pd.read_csv(\"datasets/osv-mini-129k/train_mini.csv\")\n",
    "train_df.drop(columns=[\"creator_username\", \"creator_id\", 'thumb_original_url', 'sequence', \"road_index\", 'drive_side'], inplace=True)"
   ]
  },
  {
   "cell_type": "code",
   "execution_count": null,
   "metadata": {},
   "outputs": [],
   "source": [
    "train_df.columns, len(train_df.columns)\n"
   ]
  },
  {
   "cell_type": "code",
   "execution_count": null,
   "metadata": {},
   "outputs": [],
   "source": [
    "d = train_df['unique_city'].value_counts()\n",
    "print(len(d))\n",
    "for i in d.index:\n",
    "    print(i)\n"
   ]
  },
  {
   "cell_type": "code",
   "execution_count": null,
   "metadata": {},
   "outputs": [],
   "source": [
    "d = train_df['city'].value_counts()\n",
    "print(len(d))\n",
    "for i in d.index:\n",
    "    print(i)\n"
   ]
  },
  {
   "cell_type": "code",
   "execution_count": null,
   "metadata": {},
   "outputs": [],
   "source": [
    "train_df['captured_at'].value_counts()"
   ]
  },
  {
   "cell_type": "code",
   "execution_count": null,
   "metadata": {},
   "outputs": [],
   "source": [
    "# epoch time example: 1312372800000 is Wednesday, August 3, 2011 12:00:00 PM\n",
    "\n",
    "import datetime\n",
    "\n",
    "# Convert milliseconds to seconds by dividing by 1000\n",
    "timestamp_ms = 1576175688181\n",
    "timestamp_s = timestamp_ms / 1000\n",
    "\n",
    "# Convert to datetime object and save month as int\n",
    "datetime_obj = datetime.datetime.fromtimestamp(timestamp_s)\n",
    "month = int(datetime_obj.strftime(\"%m\"))\n",
    "month\n"
   ]
  },
  {
   "cell_type": "code",
   "execution_count": null,
   "metadata": {},
   "outputs": [],
   "source": [
    "train_df['soil'].value_counts()\n"
   ]
  },
  {
   "cell_type": "code",
   "execution_count": null,
   "metadata": {},
   "outputs": [],
   "source": [
    "train_df['land_cover'].value_counts()\n"
   ]
  },
  {
   "cell_type": "code",
   "execution_count": null,
   "metadata": {},
   "outputs": [],
   "source": [
    "train_df['climate'].value_counts()"
   ]
  },
  {
   "cell_type": "code",
   "execution_count": null,
   "metadata": {},
   "outputs": [],
   "source": [
    "d = train_df['unique_sub-region'].value_counts()\n",
    "print('num unique sub-regions:', len(d))\n",
    "\n",
    "index_list = list(d.index)\n",
    "index_list.sort()\n",
    "index_list, len(index_list)\n",
    "\n",
    "print('saving unique sub-region list to file...')\n",
    "with open('unique_sub-region_list.txt', 'w') as f:\n",
    "    for i in index_list:\n",
    "        f.write(i + '\\n')\n"
   ]
  },
  {
   "cell_type": "code",
   "execution_count": null,
   "metadata": {},
   "outputs": [],
   "source": [
    "\n",
    "d"
   ]
  },
  {
   "cell_type": "code",
   "execution_count": null,
   "metadata": {},
   "outputs": [],
   "source": [
    "d = train_df['unique_city'].value_counts()\n",
    "print('num unique cities:', len(d))\n",
    "\n",
    "index_list = list(d.index)\n",
    "index_list.sort()\n",
    "index_list, len(index_list)\n",
    "\n",
    "print('saving unique city list to file...')\n",
    "with open('unique_city_list.txt', 'w') as f:\n",
    "    for i in index_list:\n",
    "        f.write(i + '\\n')\n"
   ]
  },
  {
   "cell_type": "code",
   "execution_count": 14,
   "metadata": {},
   "outputs": [],
   "source": [
    "test_df = pd.read_csv(\"datasets/osv-mini-129k/test_mini.csv\")\n",
    "test_df.drop(columns=[\"creator_username\", \"creator_id\", 'thumb_original_url', 'sequence', \"road_index\", 'drive_side'], inplace=True)"
   ]
  },
  {
   "cell_type": "code",
   "execution_count": null,
   "metadata": {},
   "outputs": [],
   "source": [
    "test_df['climate'].value_counts()"
   ]
  },
  {
   "cell_type": "code",
   "execution_count": 28,
   "metadata": {},
   "outputs": [],
   "source": [
    "state_to_idx = {state: idx for idx, state in enumerate(sorted(train_df['region'].unique()))}"
   ]
  },
  {
   "cell_type": "code",
   "execution_count": null,
   "metadata": {},
   "outputs": [],
   "source": [
    "state_to_idx"
   ]
  },
  {
   "cell_type": "code",
   "execution_count": null,
   "metadata": {},
   "outputs": [],
   "source": []
  }
 ],
 "metadata": {
  "kernelspec": {
   "display_name": "geolocation",
   "language": "python",
   "name": "python3"
  },
  "language_info": {
   "codemirror_mode": {
    "name": "ipython",
    "version": 3
   },
   "file_extension": ".py",
   "mimetype": "text/x-python",
   "name": "python",
   "nbconvert_exporter": "python",
   "pygments_lexer": "ipython3",
   "version": "3.12.0"
  }
 },
 "nbformat": 4,
 "nbformat_minor": 2
}
