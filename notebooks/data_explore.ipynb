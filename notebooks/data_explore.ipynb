{
 "cells": [
  {
   "cell_type": "code",
   "execution_count": 1,
   "metadata": {},
   "outputs": [],
   "source": [
    "# cols: \n",
    "# id,latitude,longitude,thumb_original_url,country,sequence,captured_at,lon_bin,lat_bin,cell,land_cover,road_index,drive_side,climate,soil,dist_sea,region,sub-region,city,unique_city,unique_sub-region,unique_region,unique_country,quadtree_10_1000,creator_username,creator_id"
   ]
  },
  {
   "cell_type": "code",
   "execution_count": 1,
   "metadata": {},
   "outputs": [],
   "source": [
    "import pandas as pd"
   ]
  },
  {
   "cell_type": "markdown",
   "metadata": {},
   "source": [
    "# Train set data exploration"
   ]
  },
  {
   "cell_type": "code",
   "execution_count": 2,
   "metadata": {},
   "outputs": [],
   "source": [
    "train_df = pd.read_csv(\"datasets/osv-mini-129k/train_mini.csv\")\n",
    "train_df.drop(columns=[\"creator_username\", \"creator_id\", 'thumb_original_url', 'sequence', \"road_index\", 'drive_side'], inplace=True)"
   ]
  },
  {
   "cell_type": "code",
   "execution_count": 3,
   "metadata": {},
   "outputs": [
    {
     "data": {
      "text/plain": [
       "(Index(['id', 'latitude', 'longitude', 'country', 'captured_at', 'lon_bin',\n",
       "        'lat_bin', 'cell', 'region', 'sub-region', 'city', 'land_cover',\n",
       "        'climate', 'soil', 'dist_sea', 'quadtree_10_5000', 'quadtree_10_25000',\n",
       "        'quadtree_10_1000', 'quadtree_10_50000', 'quadtree_10_12500',\n",
       "        'quadtree_10_500', 'quadtree_10_2500', 'unique_region',\n",
       "        'unique_sub-region', 'unique_city', 'unique_country'],\n",
       "       dtype='object'),\n",
       " 26)"
      ]
     },
     "execution_count": 3,
     "metadata": {},
     "output_type": "execute_result"
    }
   ],
   "source": [
    "train_df.columns, len(train_df.columns)\n"
   ]
  },
  {
   "cell_type": "code",
   "execution_count": 27,
   "metadata": {},
   "outputs": [
    {
     "name": "stdout",
     "output_type": "stream",
     "text": [
      "1593\n"
     ]
    }
   ],
   "source": [
    "# UNIQUE CITY has county and state added.\n",
    "\n",
    "d = train_df['unique_city'].value_counts()\n",
    "print(len(d))\n",
    "# for i in d.index:\n",
    "#     print(i)\n"
   ]
  },
  {
   "cell_type": "code",
   "execution_count": 31,
   "metadata": {},
   "outputs": [
    {
     "name": "stdout",
     "output_type": "stream",
     "text": [
      "1498\n",
      "Lordsburg\n"
     ]
    }
   ],
   "source": [
    "# CITY \n",
    "\n",
    "d = train_df['city'].value_counts()\n",
    "print(len(d))\n",
    "\n",
    "print(train_df['city'].iloc[0])\n"
   ]
  },
  {
   "cell_type": "code",
   "execution_count": 32,
   "metadata": {},
   "outputs": [
    {
     "name": "stdout",
     "output_type": "stream",
     "text": [
      "num unique sub-regions: 564\n",
      "saving unique sub-region list to file...\n"
     ]
    }
   ],
   "source": [
    "# SAVE UNIQUE SUB-REGION LIST\n",
    "# UNIQUE COUNTY (SUB-REGION)\n",
    "\n",
    "d = train_df['unique_sub-region'].value_counts()\n",
    "print('num unique sub-regions:', len(d))\n",
    "\n",
    "index_list = list(d.index)\n",
    "index_list.sort()\n",
    "index_list, len(index_list)\n",
    "\n",
    "print('saving unique sub-region list to file...')\n",
    "with open('unique_sub-region_list.txt', 'w') as f:\n",
    "    for i in index_list:\n",
    "        f.write(i + '\\n')\n"
   ]
  },
  {
   "cell_type": "code",
   "execution_count": 33,
   "metadata": {},
   "outputs": [],
   "source": [
    "# Time or Month\n",
    "import datetime\n",
    "train_df['captured_at'].value_counts()\n",
    "\n",
    "train_df['month'] = train_df['captured_at'].apply(\n",
    "            lambda x: int(datetime.datetime.fromtimestamp(x/1000).strftime(\"%m\")) - 1\n",
    "        )"
   ]
  },
  {
   "cell_type": "code",
   "execution_count": 36,
   "metadata": {},
   "outputs": [
    {
     "name": "stdout",
     "output_type": "stream",
     "text": [
      "num months: 12\n"
     ]
    },
    {
     "data": {
      "text/plain": [
       "month\n",
       "6     18920\n",
       "9     15885\n",
       "7     13403\n",
       "8     12629\n",
       "4     12018\n",
       "11    11049\n",
       "5      8554\n",
       "10     8064\n",
       "0      5797\n",
       "2      4905\n",
       "3      4527\n",
       "1      3257\n",
       "Name: count, dtype: int64"
      ]
     },
     "execution_count": 36,
     "metadata": {},
     "output_type": "execute_result"
    }
   ],
   "source": [
    "d = train_df['month'].value_counts()\n",
    "print('num months:', len(d))\n",
    "d\n"
   ]
  },
  {
   "cell_type": "code",
   "execution_count": 7,
   "metadata": {},
   "outputs": [
    {
     "name": "stdout",
     "output_type": "stream",
     "text": [
      "num counts: 17\n",
      "14.0\n",
      "7.0\n",
      "25.0\n",
      "9.0\n",
      "4.0\n",
      "5.0\n",
      "18.0\n",
      "26.0\n",
      "27.0\n",
      "8.0\n",
      "19.0\n",
      "6.0\n",
      "0.0\n",
      "17.0\n",
      "15.0\n",
      "21.0\n",
      "29.0\n"
     ]
    }
   ],
   "source": [
    "# CLIMATE\n",
    "d = train_df['climate'].value_counts()\n",
    "print('num counts:', len(d))\n",
    "for i in d.index:\n",
    "    print(i)"
   ]
  },
  {
   "cell_type": "code",
   "execution_count": 9,
   "metadata": {},
   "outputs": [
    {
     "name": "stdout",
     "output_type": "stream",
     "text": [
      "num unique cities: 1593\n",
      "saving unique city list to file...\n"
     ]
    }
   ],
   "source": [
    "d = train_df['unique_city'].value_counts()\n",
    "print('num unique cities:', len(d))\n",
    "\n",
    "index_list = list(d.index)\n",
    "index_list.sort()\n",
    "index_list, len(index_list)\n",
    "\n",
    "print('saving unique city list to file...')\n",
    "with open('unique_city_list.txt', 'w') as f:\n",
    "    for i in index_list:\n",
    "        f.write(i + '\\n')\n"
   ]
  },
  {
   "cell_type": "markdown",
   "metadata": {},
   "source": [
    "# Test set data exploration"
   ]
  },
  {
   "cell_type": "code",
   "execution_count": 10,
   "metadata": {},
   "outputs": [],
   "source": [
    "test_df = pd.read_csv(\"datasets/osv-mini-129k/test_mini.csv\")\n",
    "test_df.drop(columns=[\"creator_username\", \"creator_id\", 'thumb_original_url', 'sequence', \"road_index\", 'drive_side'], inplace=True)"
   ]
  },
  {
   "cell_type": "code",
   "execution_count": 15,
   "metadata": {},
   "outputs": [
    {
     "name": "stdout",
     "output_type": "stream",
     "text": [
      "num counts: 17\n",
      "7.0\n",
      "14.0\n",
      "25.0\n",
      "5.0\n",
      "6.0\n",
      "9.0\n",
      "26.0\n",
      "18.0\n",
      "27.0\n",
      "4.0\n",
      "19.0\n",
      "21.0\n",
      "8.0\n",
      "0.0\n",
      "15.0\n",
      "29.0\n",
      "17.0\n"
     ]
    }
   ],
   "source": [
    "# Climate counts\n",
    "\n",
    "d = test_df['climate'].value_counts()\n",
    "print('num counts:', len(d))\n",
    "for i in d.index:\n",
    "    print(i)"
   ]
  },
  {
   "cell_type": "code",
   "execution_count": 28,
   "metadata": {},
   "outputs": [],
   "source": [
    "state_to_idx = {state: idx for idx, state in enumerate(sorted(train_df['region'].unique()))}"
   ]
  },
  {
   "cell_type": "code",
   "execution_count": 20,
   "metadata": {},
   "outputs": [
    {
     "name": "stdout",
     "output_type": "stream",
     "text": [
      "Num climates: 17\n",
      "Num unique states: 10\n",
      "Num unique counties: 465\n",
      "Num unique cities: 1107\n"
     ]
    }
   ],
   "source": [
    "print(f'Num climates: {len(test_df['climate'].unique())}')\n",
    "# print(f'Max climate values: {test_df['climate'].value_counts().max()}')\n",
    "print(f'Num unique states: {len(test_df['region'].unique())}')\n",
    "print(f'Num unique counties: {len(test_df['sub-region'].unique())}')\n",
    "print(f'Num unique cities: {len(test_df['city'].unique())}')\n",
    "print(f'Num unique months: {len(test_df['captured_at'].unique())}')\n"
   ]
  }
 ],
 "metadata": {
  "kernelspec": {
   "display_name": "geolocation",
   "language": "python",
   "name": "python3"
  },
  "language_info": {
   "codemirror_mode": {
    "name": "ipython",
    "version": 3
   },
   "file_extension": ".py",
   "mimetype": "text/x-python",
   "name": "python",
   "nbconvert_exporter": "python",
   "pygments_lexer": "ipython3",
   "version": "3.12.0"
  }
 },
 "nbformat": 4,
 "nbformat_minor": 2
}
