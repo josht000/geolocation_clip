{
 "cells": [
  {
   "cell_type": "code",
   "execution_count": null,
   "metadata": {},
   "outputs": [],
   "source": [
    "import os\n",
    "import torch\n",
    "import argparse\n",
    "import logging\n",
    "from multiprocessing import set_start_method\n",
    "from src.train_modes import pretrain\n",
    "from transformers import Trainer, TrainingArguments, \\\n",
    "                         AutoModelForImageClassification, \\\n",
    "                         CLIPVisionModel, CLIPModel, CLIPProcessor\n",
    "from src.models.clip_model import CLIPModel\n",
    "from src.datasets import CLIPGeolocationDataset\n"
   ]
  },
  {
   "cell_type": "code",
   "execution_count": 2,
   "metadata": {},
   "outputs": [],
   "source": [
    "\n",
    "# def unfreeze_all_but_last(model):\n",
    "#     \"\"\"Unfreezes the parameters of a model.\n",
    "#     for p in model.parameters():\n",
    "#         p.requires_grad = True\"\"\"\n",
    "#     # First freeze everything\n",
    "#     for param in model.parameters():\n",
    "#         param.requires_grad = False\n",
    "\n",
    "#     model_parameters = model.named_parameters()\n",
    "#     for name, param in model_parameters:\n",
    "#         if len(name.split(\".\")) > 5:\n",
    "#             if name.split(\".\")[4] == \"11\":\n",
    "#                 param.requires_grad = True\n",
    "#             else:\n",
    "#                 param.requires_grad = False\n",
    "#         else:\n",
    "#             param.requires_grad = False\n",
    "#     model.train() # assume this is wanted...\n",
    "\n",
    "# class CLIPModel(nn.Module):\n",
    "#     def __init__(self, model_name):\n",
    "#         super(CLIPModel, self).__init__()\n",
    "#         self.model_name = model_name\n",
    "#         self.model = CLIPModel.from_pretrained(model_name)\n",
    "#         self.unfreeze_all_but_last(self.model.vision_model)\n",
    "\n",
    "# model = CLIPModel('openai/clip-vit-base-patch32')"
   ]
  },
  {
   "cell_type": "code",
   "execution_count": null,
   "metadata": {},
   "outputs": [],
   "source": [
    "train_ds = CLIPGeolocationDataset('train', 'datasets/osv-mini-129k', 'datasets/unique_city_list.txt', 'datasets/unique_sub-region_list.txt')\n",
    "test_ds = CLIPGeolocationDataset('test', 'datasets/osv-mini-129k', 'datasets/unique_city_list.txt', 'datasets/unique_sub-region_list.txt')"
   ]
  },
  {
   "cell_type": "code",
   "execution_count": null,
   "metadata": {},
   "outputs": [],
   "source": [
    "train_ds[0]['lat_labels']"
   ]
  },
  {
   "cell_type": "code",
   "execution_count": null,
   "metadata": {},
   "outputs": [],
   "source": [
    "CLIPModel('saved_models/checkpoint-1400')"
   ]
  },
  {
   "cell_type": "code",
   "execution_count": null,
   "metadata": {},
   "outputs": [],
   "source": []
  }
 ],
 "metadata": {
  "kernelspec": {
   "display_name": "geolocation",
   "language": "python",
   "name": "python3"
  },
  "language_info": {
   "codemirror_mode": {
    "name": "ipython",
    "version": 3
   },
   "file_extension": ".py",
   "mimetype": "text/x-python",
   "name": "python",
   "nbconvert_exporter": "python",
   "pygments_lexer": "ipython3",
   "version": "3.12.0"
  }
 },
 "nbformat": 4,
 "nbformat_minor": 2
}
